{
 "cells": [
  {
   "cell_type": "code",
   "execution_count": 6,
   "id": "affb10e6-b8fc-4c16-b24f-074e044e861b",
   "metadata": {},
   "outputs": [
    {
     "ename": "FileNotFoundError",
     "evalue": "[Errno 2] No such file or directory: 'nouns.txt'",
     "output_type": "error",
     "traceback": [
      "\u001b[0;31m---------------------------------------------------------------------------\u001b[0m",
      "\u001b[0;31mFileNotFoundError\u001b[0m                         Traceback (most recent call last)",
      "Cell \u001b[0;32mIn[6], line 56\u001b[0m\n\u001b[1;32m     53\u001b[0m    \u001b[38;5;66;03m# Return a tuple of words\u001b[39;00m\n\u001b[1;32m     54\u001b[0m    \u001b[38;5;28;01mreturn\u001b[39;00m \u001b[38;5;28mtuple\u001b[39m(content)\n\u001b[0;32m---> 56\u001b[0m nouns \u001b[38;5;241m=\u001b[39m \u001b[43mgetWords\u001b[49m\u001b[43m(\u001b[49m\u001b[38;5;124;43m\"\u001b[39;49m\u001b[38;5;124;43mnouns.txt\u001b[39;49m\u001b[38;5;124;43m\"\u001b[39;49m\u001b[43m)\u001b[49m\n\u001b[1;32m     57\u001b[0m verbs \u001b[38;5;241m=\u001b[39m getWords(\u001b[38;5;124m\"\u001b[39m\u001b[38;5;124mverbs.txt\u001b[39m\u001b[38;5;124m\"\u001b[39m)\n\u001b[1;32m     58\u001b[0m articles \u001b[38;5;241m=\u001b[39m getWords(\u001b[38;5;124m\"\u001b[39m\u001b[38;5;124marticles.txt\u001b[39m\u001b[38;5;124m\"\u001b[39m)\n",
      "Cell \u001b[0;32mIn[6], line 47\u001b[0m, in \u001b[0;36mgetWords\u001b[0;34m(filename)\u001b[0m\n\u001b[1;32m     43\u001b[0m \u001b[38;5;250m\u001b[39m\u001b[38;5;124;03m\"\"\"The Function reads the file and \u001b[39;00m\n\u001b[1;32m     44\u001b[0m \u001b[38;5;124;03mreturns all its words in a tuple.\"\"\"\u001b[39;00m\n\u001b[1;32m     46\u001b[0m \u001b[38;5;66;03m# Open the file and read its content\u001b[39;00m\n\u001b[0;32m---> 47\u001b[0m input_file \u001b[38;5;241m=\u001b[39m \u001b[38;5;28;43mopen\u001b[39;49m\u001b[43m(\u001b[49m\u001b[43mfilename\u001b[49m\u001b[43m,\u001b[49m\u001b[43m \u001b[49m\u001b[38;5;124;43m'\u001b[39;49m\u001b[38;5;124;43mr\u001b[39;49m\u001b[38;5;124;43m'\u001b[39;49m\u001b[43m)\u001b[49m\n\u001b[1;32m     48\u001b[0m content \u001b[38;5;241m=\u001b[39m input_file\u001b[38;5;241m.\u001b[39mread()\n\u001b[1;32m     50\u001b[0m \u001b[38;5;66;03m# Create a list of words\u001b[39;00m\n",
      "File \u001b[0;32m~/.local/lib/python3.10/site-packages/IPython/core/interactiveshell.py:310\u001b[0m, in \u001b[0;36m_modified_open\u001b[0;34m(file, *args, **kwargs)\u001b[0m\n\u001b[1;32m    303\u001b[0m \u001b[38;5;28;01mif\u001b[39;00m file \u001b[38;5;129;01min\u001b[39;00m {\u001b[38;5;241m0\u001b[39m, \u001b[38;5;241m1\u001b[39m, \u001b[38;5;241m2\u001b[39m}:\n\u001b[1;32m    304\u001b[0m     \u001b[38;5;28;01mraise\u001b[39;00m \u001b[38;5;167;01mValueError\u001b[39;00m(\n\u001b[1;32m    305\u001b[0m         \u001b[38;5;124mf\u001b[39m\u001b[38;5;124m\"\u001b[39m\u001b[38;5;124mIPython won\u001b[39m\u001b[38;5;124m'\u001b[39m\u001b[38;5;124mt let you open fd=\u001b[39m\u001b[38;5;132;01m{\u001b[39;00mfile\u001b[38;5;132;01m}\u001b[39;00m\u001b[38;5;124m by default \u001b[39m\u001b[38;5;124m\"\u001b[39m\n\u001b[1;32m    306\u001b[0m         \u001b[38;5;124m\"\u001b[39m\u001b[38;5;124mas it is likely to crash IPython. If you know what you are doing, \u001b[39m\u001b[38;5;124m\"\u001b[39m\n\u001b[1;32m    307\u001b[0m         \u001b[38;5;124m\"\u001b[39m\u001b[38;5;124myou can use builtins\u001b[39m\u001b[38;5;124m'\u001b[39m\u001b[38;5;124m open.\u001b[39m\u001b[38;5;124m\"\u001b[39m\n\u001b[1;32m    308\u001b[0m     )\n\u001b[0;32m--> 310\u001b[0m \u001b[38;5;28;01mreturn\u001b[39;00m \u001b[43mio_open\u001b[49m\u001b[43m(\u001b[49m\u001b[43mfile\u001b[49m\u001b[43m,\u001b[49m\u001b[43m \u001b[49m\u001b[38;5;241;43m*\u001b[39;49m\u001b[43margs\u001b[49m\u001b[43m,\u001b[49m\u001b[43m \u001b[49m\u001b[38;5;241;43m*\u001b[39;49m\u001b[38;5;241;43m*\u001b[39;49m\u001b[43mkwargs\u001b[49m\u001b[43m)\u001b[49m\n",
      "\u001b[0;31mFileNotFoundError\u001b[0m: [Errno 2] No such file or directory: 'nouns.txt'"
     ]
    }
   ],
   "source": [
    "\"\"\"\n",
    "Program: generator.py\n",
    "Author: Ken\n",
    "Generates and displays sentences using a simple grammar\n",
    "and vocabulary.  Words are chosen at random.\n",
    "\"\"\"\n",
    "\n",
    "import random\n",
    "\n",
    "articles = (\"A\", \"THE\")\n",
    "\n",
    "nouns = (\"BOY\", \"GIRL\", \"BAT\", \"BALL\")\n",
    "\n",
    "verbs = (\"HIT\", \"SAW\", \"LIKED\")\n",
    "\n",
    "prepositions = (\"WITH\", \"BY\")\n",
    "\n",
    "def sentence():\n",
    "    \"\"\"Builds and returns a sentence.\"\"\"\n",
    "    return nounPhrase() + \" \" + verbPhrase()\n",
    "\n",
    "def nounPhrase():\n",
    "    \"\"\"Builds and returns a noun phrase.\"\"\"\n",
    "    return random.choice(articles) + \" \" + random.choice(nouns)\n",
    "\n",
    "def verbPhrase():\n",
    "    \"\"\"Builds and returns a verb phrase.\"\"\"\n",
    "    return random.choice(verbs) + \" \" + nounPhrase() + \" \" + \\\n",
    "           prepositionalPhrase()\n",
    "\n",
    "def prepositionalPhrase():\n",
    "    \"\"\"Builds and returns a prepositional phrase.\"\"\"\n",
    "    return random.choice(prepositions) + \" \" + nounPhrase()\n",
    "\n",
    "def getWords(fname):\n",
    "   inputfile = open(fname, 'r')\n",
    "   content = inputfile.read()\n",
    "\n",
    "   content = content.split()\n",
    "    \n",
    "   return tuple(content)\n",
    "    \n",
    "articles = getWords(\"articles.txt\")\n",
    "nouns = getWords(\"nouns.txt\")\n",
    "verbs = getWords(\"verbs.txt\")\n",
    "prepositions = getWords(\"prepositions.txt\")\n",
    "\n",
    "def main():\n",
    "    \"\"\"Allows the user to input the number of sentences\n",
    "    to generate.\"\"\"\n",
    "    number = int(input(\"Enter the number of sentences: \"))\n",
    "    for count in range(number):\n",
    "        print(sentence())\n",
    "\n",
    "# The entry point for program execution\n",
    "if __name__ == \"__main__\":\n",
    "    main()"
   ]
  },
  {
   "cell_type": "code",
   "execution_count": null,
   "id": "07d7c968-518b-4794-bc4b-8895bf38edc3",
   "metadata": {},
   "outputs": [],
   "source": []
  }
 ],
 "metadata": {
  "kernelspec": {
   "display_name": "Python 3 (ipykernel)",
   "language": "python",
   "name": "python3"
  },
  "language_info": {
   "codemirror_mode": {
    "name": "ipython",
    "version": 3
   },
   "file_extension": ".py",
   "mimetype": "text/x-python",
   "name": "python",
   "nbconvert_exporter": "python",
   "pygments_lexer": "ipython3",
   "version": "3.10.12"
  }
 },
 "nbformat": 4,
 "nbformat_minor": 5
}
