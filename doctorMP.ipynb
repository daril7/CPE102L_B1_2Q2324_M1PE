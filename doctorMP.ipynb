{
 "cells": [
  {
   "cell_type": "code",
   "execution_count": null,
   "id": "33b17b51-138b-4d72-b9a7-c84378786e63",
   "metadata": {},
   "outputs": [
    {
     "name": "stdout",
     "output_type": "stream",
     "text": [
      "Good morning, I hope you are well today.\n",
      "What can I do for you?\n"
     ]
    },
    {
     "name": "stdin",
     "output_type": "stream",
     "text": [
      "\n",
      ">>  quit\n"
     ]
    },
    {
     "name": "stdout",
     "output_type": "stream",
     "text": [
      "Have a nice day!\n",
      "Hello, how can I help with your sickness?\n"
     ]
    }
   ],
   "source": [
    "\"\"\"\n",
    "Program: doctor.py\n",
    "Author: Ken\n",
    "Conducts an interactive session of nondirective psychotherapy.\n",
    "\"\"\"\n",
    "\n",
    "import random\n",
    "\n",
    "hedges = (\"Please tell me more.\",\n",
    "          \"Many of my patients tell me the same thing.\",\n",
    "          \"Please continue.\")\n",
    "\n",
    "qualifiers = (\"Why do you say that \",\n",
    "              \"You seem to think that \",\n",
    "              \"Can you explain why \")\n",
    "\n",
    "replacements = {\"I\":\"you\", \"me\":\"you\", \"my\":\"your\",\n",
    "                \"we\":\"you\", \"us\":\"you\", \"mine\":\"yours\"} \n",
    "\n",
    "def reply(sentence):\n",
    "    \"\"\"Implements two different reply strategies.\"\"\"\n",
    "    probability = random.randint(1, 4)\n",
    "    if probability == 1:\n",
    "        return random.choice(hedges)\n",
    "    else:\n",
    "        return random.choice(qualifiers) + changePerson(sentence)\n",
    "\n",
    "def changePerson(sentence):\n",
    "    \"\"\"Replaces first person pronouns with second person\n",
    "    pronouns.\"\"\"\n",
    "    words = sentence.split()\n",
    "    replyWords = []\n",
    "    for word in words:\n",
    "        replyWords.append(replacements.get(word, word))\n",
    "    return \" \".join(replyWords) \n",
    "\n",
    "class Doctor:\n",
    "\n",
    "   def __init__(self):\n",
    "\n",
    "       self.greetings = \"Hello, how can I help with your sickness?\"\n",
    "\n",
    "       self.farewell = \"Hoped I helped you the way I can!\"\n",
    "\n",
    "   def greeting(self):\n",
    "\n",
    "       return self.greetings\n",
    "\n",
    "   def farewell(self):\n",
    "\n",
    "       return self.farewell\n",
    "\n",
    "   def reply(self, statement):\n",
    "\n",
    "       if statement.lower() == \"quit\":\n",
    "\n",
    "           return self.farewell\n",
    "\n",
    "       else:\n",
    "\n",
    "           return f\"You seem to think that {statement}?\"\n",
    "           \n",
    "\n",
    "def main():\n",
    "    \"\"\"Handles the interaction between patient and doctor.\"\"\"\n",
    "    print(\"Good morning, I hope you are well today.\")\n",
    "    print(\"What can I do for you?\")\n",
    "    while True:\n",
    "        sentence = input(\"\\n>> \")\n",
    "        if sentence.upper() == \"QUIT\":\n",
    "            print(\"Have a nice day!\")\n",
    "            break\n",
    "        print(reply(sentence))\n",
    "    doctor = Doctor()\n",
    "\n",
    "    print(doctor.greeting())\n",
    "\n",
    "    while True:\n",
    "\n",
    "       user_input = input(\"> \")\n",
    "\n",
    "       reply = doctor.reply(user_input)\n",
    "\n",
    "       print(reply)\n",
    "\n",
    "       if reply == doctor.farewell:\n",
    "\n",
    "           break\n",
    "        \n",
    "# The entry point for program execution\n",
    "if __name__ == \"__main__\":\n",
    "    main()"
   ]
  },
  {
   "cell_type": "code",
   "execution_count": null,
   "id": "12b11e45-14b2-4316-9036-d45503b9c95c",
   "metadata": {},
   "outputs": [],
   "source": []
  }
 ],
 "metadata": {
  "kernelspec": {
   "display_name": "Python 3 (ipykernel)",
   "language": "python",
   "name": "python3"
  },
  "language_info": {
   "codemirror_mode": {
    "name": "ipython",
    "version": 3
   },
   "file_extension": ".py",
   "mimetype": "text/x-python",
   "name": "python",
   "nbconvert_exporter": "python",
   "pygments_lexer": "ipython3",
   "version": "3.10.12"
  }
 },
 "nbformat": 4,
 "nbformat_minor": 5
}
